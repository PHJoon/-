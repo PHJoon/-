{
 "cells": [
  {
   "cell_type": "code",
   "execution_count": 8,
   "id": "89b5fb1c",
   "metadata": {},
   "outputs": [],
   "source": [
    "import pandas as pd\n",
    "import numpy as np\n",
    "from tqdm import tqdm\n",
    "import time\n",
    "import pickle\n",
    "import os"
   ]
  },
  {
   "cell_type": "code",
   "execution_count": null,
   "id": "85517b8c",
   "metadata": {},
   "outputs": [
    {
     "name": "stdout",
     "output_type": "stream",
     "text": [
      "['2001', '2002', '2003', '2004', '2005', '2006', '2007', '2008', '2009', '2010', '2011', '2012', '2101', '2102', '2103', '2104', '2105', '2106', '2107', '2108', '2109', '2110', '2111', '2112', '2206']\n"
     ]
    },
    {
     "name": "stderr",
     "output_type": "stream",
     "text": [
      "  0%|                                                                                           | 0/25 [00:00<?, ?it/s]C:\\Users\\phj95\\AppData\\Local\\Temp\\ipykernel_10796\\1252301147.py:19: SettingWithCopyWarning: \n",
      "A value is trying to be set on a copy of a slice from a DataFrame\n",
      "\n",
      "See the caveats in the documentation: https://pandas.pydata.org/pandas-docs/stable/user_guide/indexing.html#returning-a-view-versus-a-copy\n",
      "  df_curr['time'][i] = '-'+'0'*(4-len(str(df_curr['time'][i]))) + str(df_curr['time'][i])\n"
     ]
    }
   ],
   "source": [
    "months = []\n",
    "for i in range(1,25):\n",
    "  if i <= 12: \n",
    "    months.append(str(2000+ i))\n",
    "  else: \n",
    "    months.append(str(2100 + (i+1)%13))\n",
    "    \n",
    "months.append('2206')\n",
    "print(months)\n",
    "\n",
    "df_all = []\n",
    "\n",
    "for i in tqdm(months):\n",
    "  df_curr = pd.read_csv(f'./uv/uv_{i}.csv', encoding='euc-kr')\n",
    "  df_curr.drop(columns=['Unnamed: 0'], inplace=True) \n",
    "  df_curr['date'] = pd.to_datetime(df_curr[f'20{i}_uv.yyyymmdd'], format = '%Y%m%d')\n",
    "  df_curr['time'] = df_curr[f'20{i}_uv.hhnn'].astype(str)\n",
    "  for i in range(len(df_curr)):\n",
    "    df_curr['time'][i] = '-'+'0'*(4-len(str(df_curr['time'][i]))) + str(df_curr['time'][i])\n",
    "\n",
    "\n",
    "  df_curr['date_time'] = pd.to_datetime(df_curr['date'].astype(str) + df_curr['time'].astype(str) ,format = '%Y-%m-%d-%H%M')\n",
    "  df_curr.drop(['date', 'time'], axis = 1, inplace = True)\n",
    "  df_curr.set_axis([i.rsplit('.')[-1] for i in df_curr.columns], axis=1, inplace=True)\n",
    "  df_curr.drop(['yyyymmdd', 'hhnn'], axis = 1, inplace = True)\n",
    "  df_curr.set_index(['stn', 'date_time'], inplace = True)\n",
    "  df_curr.sort_index()\n",
    "  df_all.append(df_curr)\n",
    "\n",
    "df_tot = df_all[0]\n",
    "\n",
    "for i in range(1,25):\n",
    "  df_tot = df_tot.append(df_all[i])\n",
    "\n",
    "df_tot"
   ]
  },
  {
   "cell_type": "code",
   "execution_count": null,
   "id": "96e6adcf",
   "metadata": {},
   "outputs": [],
   "source": []
  }
 ],
 "metadata": {
  "kernelspec": {
   "display_name": "Python 3 (ipykernel)",
   "language": "python",
   "name": "python3"
  },
  "language_info": {
   "codemirror_mode": {
    "name": "ipython",
    "version": 3
   },
   "file_extension": ".py",
   "mimetype": "text/x-python",
   "name": "python",
   "nbconvert_exporter": "python",
   "pygments_lexer": "ipython3",
   "version": "3.9.12"
  }
 },
 "nbformat": 4,
 "nbformat_minor": 5
}
