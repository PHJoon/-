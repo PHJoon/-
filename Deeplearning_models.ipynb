{
 "cells": [
  {
   "cell_type": "markdown",
   "metadata": {
    "id": "OyahUM7mssAL"
   },
   "source": [
    "# 1. Colab drive mount"
   ]
  },
  {
   "cell_type": "code",
   "execution_count": null,
   "metadata": {
    "colab": {
     "base_uri": "https://localhost:8080/"
    },
    "executionInfo": {
     "elapsed": 15702,
     "status": "ok",
     "timestamp": 1656488618323,
     "user": {
      "displayName": "형준",
      "userId": "07119426239817231574"
     },
     "user_tz": -540
    },
    "id": "VYbkyUwb2P-5",
    "outputId": "d87c69bd-f112-4ee4-bf9f-cf6ab0ad83c7",
    "scrolled": true
   },
   "outputs": [],
   "source": [
    "from google.colab import drive\n",
    "drive.mount('/content/drive')"
   ]
  },
  {
   "cell_type": "code",
   "execution_count": null,
   "metadata": {
    "executionInfo": {
     "elapsed": 3261,
     "status": "ok",
     "timestamp": 1656488621581,
     "user": {
      "displayName": "형준",
      "userId": "07119426239817231574"
     },
     "user_tz": -540
    },
    "id": "vz6z02UV2Iz8"
   },
   "outputs": [],
   "source": [
    "import pandas as pd\n",
    "import numpy as np\n",
    "import pickle\n",
    "from tqdm import tqdm\n",
    "\n",
    "from sklearn.preprocessing import StandardScaler\n",
    "from sklearn.model_selection import train_test_split\n",
    "import matplotlib.pyplot as plt\n",
    "import seaborn as sns\n",
    "from sklearn.model_selection import KFold\n",
    "\n",
    "from sklearn.metrics import mean_squared_error\n",
    "\n",
    "import tensorflow as tf\n",
    "from tensorflow import keras\n",
    "from tensorflow.keras import layers\n",
    "from tensorflow.keras.models import Sequential\n",
    "from tensorflow.keras.layers import Dense, Conv1D, ConvLSTM1D, Input, Activation, BatchNormalization, Flatten, LSTM, GRU, SimpleRNN\n",
    "from keras import backend as K\n",
    "from tensorflow.keras.callbacks import ModelCheckpoint, TensorBoard, ReduceLROnPlateau\n",
    "import kerastuner as kt\n",
    "from kerastuner.tuners import RandomSearch\n",
    "from kerastuner.tuners import Hyperband"
   ]
  },
  {
   "cell_type": "markdown",
   "metadata": {
    "id": "Un2XusJmvpel"
   },
   "source": [
    "# 2. Data"
   ]
  },
  {
   "cell_type": "code",
   "execution_count": null,
   "metadata": {
    "colab": {
     "base_uri": "https://localhost:8080/",
     "height": 473
    },
    "executionInfo": {
     "elapsed": 1599,
     "status": "ok",
     "timestamp": 1656462155279,
     "user": {
      "displayName": "형준",
      "userId": "07119426239817231574"
     },
     "user_tz": -540
    },
    "id": "o6g7VDF14vdb",
    "outputId": "4d7ebdc8-32a7-41df-b91b-1d5b626b6512",
    "scrolled": true
   },
   "outputs": [],
   "source": [
    "# Data 불러오기\n",
    "df = pd.read_pickle(\"/content/drive/MyDrive/날씨/data_자외선/전처리_knn/knn_imp(0616).pkl\")\n",
    "\n",
    "\n",
    "# Time Encoding(month, hour)\n",
    "def encode(data, col, max_val):\n",
    "    data[col + '_sin'] = np.sin(2 * np.pi * data[col]/max_val)\n",
    "    data[col + '_cos'] = np.cos(2 * np.pi * data[col]/max_val)\n",
    "    return data\n",
    "\n",
    "df['month'] = df[\"date_time\"].dt.month\n",
    "df = encode(df, 'month', 12)\n",
    "\n",
    "df['hour'] = df[\"date_time\"].dt.hour\n",
    "df = encode(df, 'hour', 23)\n",
    "\n",
    "# Drop features\n",
    "df.drop(columns=[\"sateza\", \"height\", \"landtype\", \"month\", \"hour\"], inplace=True)\n",
    "\n",
    "# Feature 재정렬\n",
    "df = df[['date_time','stn', 'uv', 'month_sin', 'month_cos', 'hour_sin', 'hour_cos', 'lon', 'lat', \n",
    "        'band1', 'band2', 'band3', 'band4', 'band5',\n",
    "       'band6', 'band7', 'band8', 'band9', 'band10', 'band11', 'band12',\n",
    "       'band13', 'band14', 'band15', 'band16', 'solarza', 'esr']]\n",
    "\n",
    "# 20, 21년 7~9월 Train Data\n",
    "df_train_1 = df.loc[(df[\"date_time\"] >= \"2020-07-01\") & (df[\"date_time\"] < \"2020-10-01\")]\n",
    "df_train_2 = df.loc[(df[\"date_time\"] >= \"2021-07-01\") & (df[\"date_time\"] < \"2021-10-01\")]\n",
    "df_train_789 = pd.concat([df_train_1, df_train_2], axis=0)\n",
    "\n",
    "# 19년 8월 Train Data\n",
    "df_test = df.loc[(df[\"date_time\"] >= \"2019-08-01\") & (df[\"date_time\"] < \"2019-09-01\")]\n",
    "\n",
    "df_train_789.reset_index(drop=True, inplace=True)\n",
    "df_test.reset_index(drop=True, inplace=True)\n",
    "\n",
    "df_train_789.head()"
   ]
  },
  {
   "cell_type": "markdown",
   "metadata": {},
   "source": [
    "# 3. Scaling"
   ]
  },
  {
   "cell_type": "code",
   "execution_count": null,
   "metadata": {
    "colab": {
     "base_uri": "https://localhost:8080/",
     "height": 835
    },
    "executionInfo": {
     "elapsed": 966,
     "status": "ok",
     "timestamp": 1656488715552,
     "user": {
      "displayName": "형준",
      "userId": "07119426239817231574"
     },
     "user_tz": -540
    },
    "id": "XEKAHCH8fDaW",
    "outputId": "912d1f77-b709-41bf-d2bf-3de20b1030a0"
   },
   "outputs": [],
   "source": [
    "# df_train_789\n",
    "# Scaling 변수 설정\n",
    "df_train_1= df_train_789.iloc[:, :7]\n",
    "\n",
    "scaler = StandardScaler()\n",
    "df_train_std = df_train_789.iloc[:, 7:]\n",
    "df_train_std = scaler.fit_transform(df_train_std)\n",
    "df_train_std = pd.DataFrame(df_train_std, columns=df_train_789.columns[7:])\n",
    "\n",
    "df_train_789 = pd.concat([df_train_1, df_train_std], axis=1)\n",
    "\n",
    "# df_test\n",
    "df_test_1 = df_test.iloc[:, :7]\n",
    "\n",
    "df_test_std = df_test.iloc[:, 7:]\n",
    "df_test_std = scaler.transform(df_test_std)\n",
    "df_test_std = pd.DataFrame(df_test_std, columns=df_test.columns[7:])\n",
    "\n",
    "df_test = pd.concat([df_test_1, df_test_std], axis=1)"
   ]
  },
  {
   "cell_type": "markdown",
   "metadata": {
    "id": "VBTgQM0yvuND"
   },
   "source": [
    "# 4. Build_Dataset"
   ]
  },
  {
   "cell_type": "code",
   "execution_count": null,
   "metadata": {
    "executionInfo": {
     "elapsed": 284,
     "status": "ok",
     "timestamp": 1656488738440,
     "user": {
      "displayName": "형준",
      "userId": "07119426239817231574"
     },
     "user_tz": -540
    },
    "id": "LC8VUhNhBBVU"
   },
   "outputs": [],
   "source": [
    "# 시계열 데이터를 원하는 길이만큼 묶어주는 함수 \n",
    "def build_dataset(time_series, seq_length):\n",
    "  dataX = []\n",
    "  dataY = []\n",
    "  \n",
    "  for i in tqdm(range(len(time_series) - seq_length)):\n",
    "    x = time_series.iloc[i:i+seq_length, :-1]\n",
    "    y = time_series.iloc[i+seq_length, -1]\n",
    "\n",
    "    dataX.append(x)\n",
    "    dataY.append(y)\n",
    "\n",
    "  return np.array(dataX), np.array(dataY)"
   ]
  },
  {
   "cell_type": "code",
   "execution_count": null,
   "metadata": {
    "executionInfo": {
     "elapsed": 305,
     "status": "ok",
     "timestamp": 1656488740210,
     "user": {
      "displayName": "형준",
      "userId": "07119426239817231574"
     },
     "user_tz": -540
    },
    "id": "hcDxnsuP3Z3k"
   },
   "outputs": [],
   "source": [
    "# 함수를 사용하기 위해 변수 순서 재정렬\n",
    "df_train_789 = df_train_789[['date_time','stn', 'month_sin', 'month_cos', 'hour_sin', 'hour_cos', \n",
    "        'band1', 'band2', 'band3', 'band4', 'band5',\n",
    "       'band6', 'band7', 'band8', 'band9', 'band10', 'band11', 'band12',\n",
    "       'band13', 'band14', 'band15', 'band16', 'solarza', 'esr', 'uv']]\n",
    "  \n",
    "df_test = df_test[['date_time','stn', 'month_sin', 'month_cos', 'hour_sin', 'hour_cos', \n",
    "        'band1', 'band2', 'band3', 'band4', 'band5', \n",
    "       'band6', 'band7', 'band8', 'band9', 'band10', 'band11', 'band12',\n",
    "       'band13', 'band14', 'band15', 'band16', 'solarza', 'esr', 'uv']]\n",
    "\n",
    "# date_time과 stn은 제외함\n",
    "df_train_789_timeseries = df_train_789.iloc[:, 2:]\n",
    "df_test_timeseries = df_test.iloc[:, 2:]"
   ]
  },
  {
   "cell_type": "code",
   "execution_count": null,
   "metadata": {
    "colab": {
     "base_uri": "https://localhost:8080/"
    },
    "executionInfo": {
     "elapsed": 310313,
     "status": "ok",
     "timestamp": 1656489056577,
     "user": {
      "displayName": "형준",
      "userId": "07119426239817231574"
     },
     "user_tz": -540
    },
    "id": "hpZaVvMGQEcw",
    "outputId": "b23b4071-e23a-439c-ffb7-b1919c8735bc"
   },
   "outputs": [],
   "source": [
    "train_789_x, train_789_y = build_dataset(df_train_789_timeseries, 3)\n",
    "test_x, test_y = build_dataset(df_test_timeseries, 3)"
   ]
  },
  {
   "cell_type": "markdown",
   "metadata": {
    "id": "WICcyyqRv0Rb"
   },
   "source": [
    "# 5. Models"
   ]
  },
  {
   "cell_type": "code",
   "execution_count": null,
   "metadata": {
    "executionInfo": {
     "elapsed": 6,
     "status": "ok",
     "timestamp": 1656489056577,
     "user": {
      "displayName": "형준",
      "userId": "07119426239817231574"
     },
     "user_tz": -540
    },
    "id": "7dGA9N1ivyod"
   },
   "outputs": [],
   "source": [
    "# 학습 시 loss로 쓸 Custom RMSE 함수 \n",
    "def rmse(y_true, y_pred):\n",
    "        return K.sqrt(K.mean(K.square(y_pred - y_true))) "
   ]
  },
  {
   "cell_type": "markdown",
   "metadata": {
    "id": "rEu2RzQzbSms"
   },
   "source": [
    "## 1D CNN"
   ]
  },
  {
   "cell_type": "markdown",
   "metadata": {
    "id": "NwEN6dVjwcwc"
   },
   "source": [
    "### Model"
   ]
  },
  {
   "cell_type": "code",
   "execution_count": null,
   "metadata": {
    "id": "LtVRk5LsBBaO"
   },
   "outputs": [],
   "source": [
    "def set_cnn1d(): # Causal Padding을 사용한 CNN1D 모델 구축함수\n",
    "\n",
    "  nf = 16 \n",
    "  fs = 3 \n",
    "  padding = 'causal'  # Convolution을 진행할 때, 매 step에서 output이 오직 현시점의 input과 과거 시점들의 데이터에만 종속되도록하기 위해서 Causal Padding을 사용\n",
    "  activation = 'relu'\n",
    "\n",
    "  model = Sequential()\n",
    "\n",
    "  model.add(Conv1D(filters = nf, kernel_size = fs, padding = padding, input_shape=(3, 22)))\n",
    "  model.add(BatchNormalization()) # 비선형 성질을 유지 하면서 학습 될 수 있게 해주고, regularization 효과를 가지기 위해 배치정규화 설정\n",
    "  model.add(Activation(activation = activation))\n",
    "\n",
    "  model.add(Conv1D(filters = nf * 2, kernel_size = fs, padding = padding))\n",
    "  model.add(BatchNormalization())  # 비선형 성질을 유지 하면서 학습 될 수 있게 해주고, regularization 효과를 가지기 위해 배치정규화 설정\n",
    "  model.add(Activation(activation = activation))\n",
    "\n",
    "  model.add(Conv1D(filters = nf * 4, kernel_size = fs, padding = padding))\n",
    "  model.add(BatchNormalization())  # 비선형 성질을 유지 하면서 학습 될 수 있게 해주고, regularization 효과를 가지기 위해 배치정규화 설정\n",
    "  model.add(Activation(activation = activation))\n",
    "\n",
    "  # Convolution 연산을 진행한 결과를 다시 Flatten 하여 최종 값(Dense(1)) 도출\n",
    "  model.add(Flatten())\n",
    "\n",
    "  model.add(Dense(32, activation = activation)) \n",
    "  model.add(Dense(8, activation = activation)) \n",
    "  model.add(Dense(1))# output size \n",
    "\n",
    "  optimizer = keras.optimizers.Adam(learning_rate=0.0001)\n",
    "\n",
    "  model.compile(loss = rmse, optimizer = optimizer, metrics=['mae', 'mse'])\n",
    "\n",
    "  return model"
   ]
  },
  {
   "cell_type": "code",
   "execution_count": null,
   "metadata": {
    "id": "ryjtCuqPBBcU"
   },
   "outputs": [],
   "source": [
    "cnn1d = set_cnn1d()"
   ]
  },
  {
   "cell_type": "markdown",
   "metadata": {
    "id": "_Yyo47O2wNBT"
   },
   "source": [
    "### Model fit"
   ]
  },
  {
   "cell_type": "code",
   "execution_count": null,
   "metadata": {
    "colab": {
     "base_uri": "https://localhost:8080/"
    },
    "executionInfo": {
     "elapsed": 5409821,
     "status": "ok",
     "timestamp": 1656152459464,
     "user": {
      "displayName": "형준",
      "userId": "07119426239817231574"
     },
     "user_tz": -540
    },
    "id": "QWePOL3ooatj",
    "outputId": "3a3600ab-2af1-40be-b9d1-81233227098f"
   },
   "outputs": [],
   "source": [
    "model_directory = '/content/drive/MyDrive/날씨/박형준/model/'\n",
    "tensorboard_directory = '/content/drive/MyDrive/날씨/박형준/tensorboard/cnn1d/'\n",
    "\n",
    "# Call-back 함수\n",
    "# CheckPoint: Epoch 마다 val_loss를 확인하여, 값이 향상되었을 경우에만 저장\n",
    "CP = ModelCheckpoint(filepath=model_directory+'cnn1d0625_789-{epoch:03d}-{val_loss:.4f}.hdf5',\n",
    "            monitor='val_loss', save_weights_only=True, verbose=1, save_best_only=True, mode='min')\n",
    "\n",
    "# 학습과정 진행사항 확인\n",
    "TB = TensorBoard(log_dir=tensorboard_directory, write_graph=True, write_images=True)\n",
    "\n",
    "# 모델의 개선이 없을 경우 Learning rate 조절\n",
    "LR = ReduceLROnPlateau(monitor='val_loss',factor=0.8,patience=3, verbose=1, min_lr=1e-7)\n",
    "\n",
    "CALLBACK = [CP, TB, LR]\n",
    "\n",
    "cnn1d.fit(train_789_x, train_789_y, validation_split=0.2, shuffle=True, batch_size=8, callbacks=CALLBACK, epochs=20)"
   ]
  },
  {
   "cell_type": "markdown",
   "metadata": {
    "id": "4PnEbPhowP5X"
   },
   "source": [
    "### Load & Predict"
   ]
  },
  {
   "cell_type": "code",
   "execution_count": null,
   "metadata": {
    "colab": {
     "base_uri": "https://localhost:8080/"
    },
    "executionInfo": {
     "elapsed": 6665,
     "status": "ok",
     "timestamp": 1656153134449,
     "user": {
      "displayName": "형준",
      "userId": "07119426239817231574"
     },
     "user_tz": -540
    },
    "id": "tE1-7QuXisDU",
    "outputId": "fd7a0d9e-137e-42fb-d9d0-30d60a124aa2"
   },
   "outputs": [],
   "source": [
    "# loss가 가장 낮은 모델 weight를 가져오기 위해 모델 만들기\n",
    "pretrained_model = set_cnn1d()\n",
    "pretrained_model.load_weights('/content/drive/MyDrive/날씨/박형준/model/cnn1d0625_789-017-0.3714.hdf5')\n",
    "\n",
    "# Create a new model by extracting layers from the original model:\n",
    "extracted_layers = pretrained_model.layers[:]\n",
    "cnn1d = keras.Sequential(extracted_layers)\n",
    "\n",
    "pred = cnn1d.predict(test_x)\n",
    "mean_squared_error(y_true=test_y, y_pred=pred) ** 0.5"
   ]
  },
  {
   "cell_type": "markdown",
   "metadata": {
    "id": "Rf8zMceGMPAB"
   },
   "source": [
    "## CNN-LSTM"
   ]
  },
  {
   "cell_type": "markdown",
   "metadata": {
    "id": "psHuTD-Zwnh8"
   },
   "source": [
    "### Model"
   ]
  },
  {
   "cell_type": "code",
   "execution_count": null,
   "metadata": {
    "id": "b4RdErizMQE4"
   },
   "outputs": [],
   "source": [
    "def set_cnnlstm():\n",
    "\n",
    "  nf = 16 \n",
    "  fs = 3 \n",
    "  padding = 'causal'\n",
    "\n",
    "  model = Sequential()\n",
    "\n",
    "  model.add(Conv1D(filters = nf * 2, kernel_size = fs, padding = padding, input_shape=(3, 22)))\n",
    "  model.add(BatchNormalization())\n",
    "  model.add(Activation(activation = activation))\n",
    "\n",
    "  model.add(Conv1D(filters = nf * 4, kernel_size = fs, padding = padding))\n",
    "  model.add(BatchNormalization())\n",
    "  model.add(Activation(activation = activation))\n",
    "\n",
    "  model.add(LSTM(16, return_sequences=True))\n",
    "  model.add(LSTM(16))\n",
    "  model.add(Dense(1, activation=activation))\n",
    "\n",
    "  optimizer = keras.optimizers.Adam()\n",
    "\n",
    "  model.compile(loss = rmse, optimizer = optimizer, metrics=['mae', 'mse'])\n",
    "\n",
    "  return model"
   ]
  },
  {
   "cell_type": "code",
   "execution_count": null,
   "metadata": {
    "id": "FwU1gp9NOe8w"
   },
   "outputs": [],
   "source": [
    "cnnlstm = set_cnnlstm()"
   ]
  },
  {
   "cell_type": "markdown",
   "metadata": {
    "id": "AmXpBhFuw_nz"
   },
   "source": [
    "### Model fit"
   ]
  },
  {
   "cell_type": "code",
   "execution_count": null,
   "metadata": {
    "colab": {
     "base_uri": "https://localhost:8080/"
    },
    "executionInfo": {
     "elapsed": 6730213,
     "status": "ok",
     "timestamp": 1656159964063,
     "user": {
      "displayName": "형준",
      "userId": "07119426239817231574"
     },
     "user_tz": -540
    },
    "id": "tiuSwn3nOnNv",
    "outputId": "f982c709-6dc8-4d72-e144-eee86443a47e"
   },
   "outputs": [],
   "source": [
    "model_directory = '/content/drive/MyDrive/날씨/박형준/model/'\n",
    "tensorboard_directory = '/content/drive/MyDrive/날씨/박형준/tensorboard/cnnlstm/'\n",
    "\n",
    "# Call-back 함수\n",
    "# CheckPoint: Epoch 마다 val_loss를 확인하여, 값이 향상되었을 경우에만 저장\n",
    "CP = ModelCheckpoint(filepath=model_directory+'cnnlstm0625-{epoch:03d}-{val_loss:.4f}.hdf5',\n",
    "            monitor='val_loss', save_weights_only=True, verbose=1, save_best_only=True, mode='min')\n",
    "\n",
    "# 학습과정 진행사항 확인\n",
    "TB = TensorBoard(log_dir=tensorboard_directory, write_graph=True, write_images=True)\n",
    "\n",
    "# 모델의 개선이 없을 경우 Learning rate 조절\n",
    "LR = ReduceLROnPlateau(monitor='val_loss',factor=0.8,patience=3, verbose=1, min_lr=1e-7)\n",
    "\n",
    "CALLBACK = [CP, TB, LR]\n",
    "\n",
    "cnnlstm.fit(train_789_x, train_789_y, validation_split=0.2, batch_size=8, callbacks=CALLBACK, epochs=20)"
   ]
  },
  {
   "cell_type": "markdown",
   "metadata": {
    "id": "fWOMGvLrxBLF"
   },
   "source": [
    "### Load & Predict"
   ]
  },
  {
   "cell_type": "code",
   "execution_count": null,
   "metadata": {
    "colab": {
     "base_uri": "https://localhost:8080/"
    },
    "executionInfo": {
     "elapsed": 8382,
     "status": "ok",
     "timestamp": 1656160930832,
     "user": {
      "displayName": "형준",
      "userId": "07119426239817231574"
     },
     "user_tz": -540
    },
    "id": "IaBqqSeWQICv",
    "outputId": "278bc2b1-09d2-46d8-b50c-e80484e4d37c"
   },
   "outputs": [],
   "source": [
    "# loss가 가장 낮은 모델 weight를 가져오기 위해 모델 만들기\n",
    "pretrained_model = set_cnnlstm()\n",
    "pretrained_model.load_weights('/content/drive/MyDrive/날씨/박형준/model/cnnlstm0625-020-0.3774.hdf5')\n",
    "\n",
    "# Create a new model by extracting layers from the original model:\n",
    "extracted_layers = pretrained_model.layers[:]\n",
    "cnnlstm = keras.Sequential(extracted_layers)\n",
    "\n",
    "pred = cnnlstm.predict(test_x)\n",
    "mean_squared_error(y_true=test_y, y_pred=pred) ** 0.5"
   ]
  },
  {
   "cell_type": "markdown",
   "metadata": {
    "id": "gVIGxyG1qchM"
   },
   "source": [
    "## SimpleRNN"
   ]
  },
  {
   "cell_type": "markdown",
   "metadata": {
    "id": "rhmH1ZH9qdJw"
   },
   "source": [
    "### Model"
   ]
  },
  {
   "cell_type": "code",
   "execution_count": null,
   "metadata": {
    "id": "FDhpj2Uwqr0B"
   },
   "outputs": [],
   "source": [
    "def set_rnn():\n",
    "\n",
    "  model = Sequential()\n",
    "\n",
    "  model.add(SimpleRNN(16, input_shape=(3, 22), return_sequences=True))\n",
    "  model.add(SimpleRNN(16))\n",
    "  model.add(Dense(1, activation='relu'))\n",
    "\n",
    "  optimizer = keras.optimizers.Adam()\n",
    "\n",
    "  model.compile(loss = rmse, optimizer = optimizer, metrics=['mae', 'mse'])\n",
    "\n",
    "  return model"
   ]
  },
  {
   "cell_type": "code",
   "execution_count": null,
   "metadata": {
    "id": "fQrAmLIuqsZo"
   },
   "outputs": [],
   "source": [
    "rnn = set_rnn()"
   ]
  },
  {
   "cell_type": "markdown",
   "metadata": {
    "id": "n-g12U-OqdUp"
   },
   "source": [
    "### Model fit"
   ]
  },
  {
   "cell_type": "code",
   "execution_count": null,
   "metadata": {
    "colab": {
     "base_uri": "https://localhost:8080/"
    },
    "executionInfo": {
     "elapsed": 5779150,
     "status": "ok",
     "timestamp": 1656065600701,
     "user": {
      "displayName": "형준",
      "userId": "07119426239817231574"
     },
     "user_tz": -540
    },
    "id": "7dZxr5f0q2Ob",
    "outputId": "0bbe38fe-e134-462e-9645-2672f84483a9"
   },
   "outputs": [],
   "source": [
    "model_directory = '/content/drive/MyDrive/날씨/박형준/model/'\n",
    "tensorboard_directory = '/content/drive/MyDrive/날씨/박형준/tensorboard/rnn/'\n",
    "\n",
    "# Call-back 함수\n",
    "# CheckPoint: Epoch 마다 val_loss를 확인하여, 값이 향상되었을 경우에만 저장\n",
    "CP = ModelCheckpoint(filepath=model_directory+'rnn_789-{epoch:03d}-{val_loss:.4f}.hdf5',\n",
    "            monitor='val_loss', save_weights_only=True, verbose=1, save_best_only=True, mode='min')\n",
    "\n",
    "# 학습과정 진행사항 확인\n",
    "TB = TensorBoard(log_dir=tensorboard_directory, write_graph=True, write_images=True)\n",
    "\n",
    "# 모델의 개선이 없을 경우 Learning rate 조절\n",
    "LR = ReduceLROnPlateau(monitor='val_loss',factor=0.8,patience=3, verbose=1, min_lr=1e-7)\n",
    "\n",
    "CALLBACK = [CP, TB, LR]\n",
    "\n",
    "rnn.fit(train_789_x, train_789_y, batch_size=8, callbacks=CALLBACK, validation_split=0.2, epochs=20)"
   ]
  },
  {
   "cell_type": "markdown",
   "metadata": {
    "id": "PB3cEYt4qdxF"
   },
   "source": [
    "### Load & Predict"
   ]
  },
  {
   "cell_type": "code",
   "execution_count": null,
   "metadata": {
    "colab": {
     "base_uri": "https://localhost:8080/"
    },
    "executionInfo": {
     "elapsed": 6421,
     "status": "ok",
     "timestamp": 1656069965486,
     "user": {
      "displayName": "형준",
      "userId": "07119426239817231574"
     },
     "user_tz": -540
    },
    "id": "rNqHX_eQq-1s",
    "outputId": "13da2930-22a6-4d70-e54c-6133c6bb32aa"
   },
   "outputs": [],
   "source": [
    "# loss가 가장 낮은 모델 weight를 가져오기 위해 모델 만들기\n",
    "pretrained_model = set_rnn()\n",
    "pretrained_model.load_weights('/content/drive/MyDrive/날씨/박형준/model/rnn_789-019-0.3720.hdf5')\n",
    "\n",
    "# Create a new model by extracting layers from the original model:\n",
    "extracted_layers = pretrained_model.layers[:]\n",
    "rnn = keras.Sequential(extracted_layers)\n",
    "rnn.summary()\n",
    "\n",
    "pred = rnn.predict(test_x)\n",
    "mean_squared_error(y_true=test_y, y_pred=pred) ** 0.5"
   ]
  },
  {
   "cell_type": "markdown",
   "metadata": {
    "id": "nRs3JUVkWYwk"
   },
   "source": [
    "## LSTM"
   ]
  },
  {
   "cell_type": "markdown",
   "metadata": {
    "id": "CMQ9qvrexHVL"
   },
   "source": [
    "### Model"
   ]
  },
  {
   "cell_type": "code",
   "execution_count": null,
   "metadata": {
    "id": "o8b7nadGRuJ3"
   },
   "outputs": [],
   "source": [
    "def set_lstm():\n",
    "\n",
    "  model = Sequential()\n",
    "\n",
    "  model.add(LSTM(64, input_shape=(3, 22), return_sequences=True))\n",
    "  model.add(LSTM(64))\n",
    "  model.add(Dense(1, activation='relu'))\n",
    "\n",
    "  optimizer = keras.optimizers.Adam()\n",
    "\n",
    "  model.compile(loss = rmse, optimizer = optimizer, metrics=['mae', 'mse'])\n",
    "\n",
    "  return model"
   ]
  },
  {
   "cell_type": "code",
   "execution_count": null,
   "metadata": {
    "id": "re8eD_SyWv8o"
   },
   "outputs": [],
   "source": [
    "lstm = set_lstm()"
   ]
  },
  {
   "cell_type": "markdown",
   "metadata": {
    "id": "d3Xh1KkWxLEJ"
   },
   "source": [
    "### Model fit"
   ]
  },
  {
   "cell_type": "code",
   "execution_count": null,
   "metadata": {
    "colab": {
     "base_uri": "https://localhost:8080/"
    },
    "executionInfo": {
     "elapsed": 9665550,
     "status": "ok",
     "timestamp": 1656142279533,
     "user": {
      "displayName": "형준",
      "userId": "07119426239817231574"
     },
     "user_tz": -540
    },
    "id": "MLffs159Wztc",
    "outputId": "ca704488-2175-48bf-cd86-278015458a34"
   },
   "outputs": [],
   "source": [
    "model_directory = '/content/drive/MyDrive/날씨/박형준/model/lstm(64)_batch16/'\n",
    "tensorboard_directory = '/content/drive/MyDrive/날씨/박형준/tensorboard/lstm(64)_batch16/'\n",
    "\n",
    "# Call-back 함수\n",
    "# CheckPoint: Epoch 마다 val_loss를 확인하여, 값이 향상되었을 경우에만 저장\n",
    "CP = ModelCheckpoint(filepath=model_directory+'lstm(64)_batch16-{epoch:03d}-{val_loss:.4f}.hdf5',\n",
    "            monitor='val_loss', save_weights_only=True, verbose=1, save_best_only=True, mode='min')\n",
    "\n",
    "# 학습과정 진행사항 확인\n",
    "TB = TensorBoard(log_dir=tensorboard_directory, write_graph=True, write_images=True)\n",
    "\n",
    "# 모델의 개선이 없을 경우 Learning rate 조절\n",
    "LR = ReduceLROnPlateau(monitor='val_loss',factor=0.8,patience=3, verbose=1, min_lr=1e-7)\n",
    "\n",
    "CALLBACK = [CP, TB, LR]\n",
    "\n",
    "lstm.fit(train_789_x, train_789_y, batch_size=16, callbacks=CALLBACK, shuffle=True, validation_split=0.2, epochs=20)"
   ]
  },
  {
   "cell_type": "markdown",
   "metadata": {
    "id": "RR19rX6DxOPy"
   },
   "source": [
    "### Load & Predict"
   ]
  },
  {
   "cell_type": "code",
   "execution_count": null,
   "metadata": {
    "colab": {
     "base_uri": "https://localhost:8080/"
    },
    "executionInfo": {
     "elapsed": 5193,
     "status": "ok",
     "timestamp": 1656288666238,
     "user": {
      "displayName": "형준",
      "userId": "07119426239817231574"
     },
     "user_tz": -540
    },
    "id": "CiA9qer2XEl0",
    "outputId": "eea3f889-62ef-4930-835b-edcdfa8cfa21"
   },
   "outputs": [],
   "source": [
    "# loss가 가장 낮은 모델 weight를 가져오기 위해 모델 만들기\n",
    "pretrained_model = set_lstm()\n",
    "pretrained_model.load_weights('/content/drive/MyDrive/날씨/박형준/model/lstm_789-011-0.3706.hdf5')\n",
    "\n",
    "# Create a new model by extracting layers from the original model:\n",
    "extracted_layers = pretrained_model.layers[:]\n",
    "lstm = keras.Sequential(extracted_layers)\n",
    "\n",
    "pred = lstm.predict(test_x)\n",
    "mean_squared_error(y_true=test_y, y_pred=pred) ** 0.5"
   ]
  },
  {
   "cell_type": "markdown",
   "metadata": {
    "id": "XmoXTQmygVxV"
   },
   "source": [
    "## GRU"
   ]
  },
  {
   "cell_type": "markdown",
   "metadata": {
    "id": "yGFXn-2pxT3N"
   },
   "source": [
    "### Model"
   ]
  },
  {
   "cell_type": "code",
   "execution_count": null,
   "metadata": {
    "id": "_pLcOpVegXDp"
   },
   "outputs": [],
   "source": [
    "def set_gru():\n",
    "\n",
    "  activation = 'relu'\n",
    "\n",
    "  model = Sequential()\n",
    "\n",
    "  model.add(GRU(64, input_shape=(3, 22), return_sequences=True))\n",
    "  model.add(GRU(64))\n",
    "  model.add(Dense(1, activation=activation))\n",
    "\n",
    "  optimizer = keras.optimizers.Adam(learning_rate=0.001)\n",
    "\n",
    "  model.compile(loss = rmse, optimizer = optimizer, metrics=['mae', 'mse'])\n",
    "\n",
    "  return model"
   ]
  },
  {
   "cell_type": "code",
   "execution_count": null,
   "metadata": {
    "id": "VUsIJu8S033S"
   },
   "outputs": [],
   "source": [
    "gru = set_gru()"
   ]
  },
  {
   "cell_type": "markdown",
   "metadata": {
    "id": "HF5d1YP80vZK"
   },
   "source": [
    "### Model fit"
   ]
  },
  {
   "cell_type": "code",
   "execution_count": null,
   "metadata": {
    "colab": {
     "base_uri": "https://localhost:8080/"
    },
    "executionInfo": {
     "elapsed": 12925050,
     "status": "ok",
     "timestamp": 1656374362960,
     "user": {
      "displayName": "형준",
      "userId": "07119426239817231574"
     },
     "user_tz": -540
    },
    "id": "kzqAFEuZ0t2c",
    "outputId": "2ca3ccdb-fa46-43af-dafe-2dc50f4aaca4"
   },
   "outputs": [],
   "source": [
    "model_directory = '/content/drive/MyDrive/날씨/박형준/model/gru(64)_batch16_epochs150/'\n",
    "tensorboard_directory = '/content/drive/MyDrive/날씨/박형준/tensorboard/gru(64)_batch16_epochs150/'\n",
    "\n",
    "# Call-back 함수\n",
    "# CheckPoint: Epoch 마다 val_loss를 확인하여, 값이 향상되었을 경우에만 저장\n",
    "CP = ModelCheckpoint(filepath=model_directory+'gru(64)_batch16_epochs150-{epoch:03d}-{val_loss:.4f}.hdf5',\n",
    "            monitor='val_loss', save_weights_only=True, verbose=1, save_best_only=True, mode='min')\n",
    "\n",
    "# 학습과정 진행사항 확인\n",
    "TB = TensorBoard(log_dir=tensorboard_directory, write_graph=True, write_images=True)\n",
    "\n",
    "# 모델의 개선이 없을 경우 Learning rate 조절\n",
    "LR = ReduceLROnPlateau(monitor='val_loss',factor=0.8,patience=3, verbose=1, min_lr=1e-7)\n",
    "\n",
    "CALLBACK = [CP, TB, LR]\n",
    "\n",
    "gru.fit(train_789_x, train_789_y, batch_size=16, callbacks=CALLBACK, shuffle=True, validation_split=0.2, epochs=150)"
   ]
  },
  {
   "cell_type": "markdown",
   "metadata": {
    "id": "sCxc8J-q0yLs"
   },
   "source": [
    "### Load & Predict"
   ]
  },
  {
   "cell_type": "code",
   "execution_count": null,
   "metadata": {
    "colab": {
     "base_uri": "https://localhost:8080/"
    },
    "executionInfo": {
     "elapsed": 4975,
     "status": "ok",
     "timestamp": 1656374546997,
     "user": {
      "displayName": "형준",
      "userId": "07119426239817231574"
     },
     "user_tz": -540
    },
    "id": "oNWUT5oK00Uw",
    "outputId": "ac024f18-eb32-470d-b434-db3121b25d0a"
   },
   "outputs": [],
   "source": [
    "# loss가 가장 낮은 모델 weight를 가져오기 위해 모델 만들기\n",
    "pretrained_model = set_gru()\n",
    "pretrained_model.load_weights('/content/drive/MyDrive/날씨/박형준/model/gru(64)_batch16_epochs150/gru(64)_batch16_epochs200-006-0.3888.hdf5')\n",
    "\n",
    "# Create a new model by extracting layers from the original model:\n",
    "extracted_layers = pretrained_model.layers[:]\n",
    "gru = keras.Sequential(extracted_layers)\n",
    "\n",
    "pred = gru.predict(test_x)\n",
    "mean_squared_error(y_true=test_y, y_pred=pred) ** 0.5"
   ]
  },
  {
   "cell_type": "markdown",
   "metadata": {
    "id": "dZoNxEA8ugfN"
   },
   "source": [
    "# 6. Kerastuner-GRU"
   ]
  },
  {
   "cell_type": "markdown",
   "metadata": {
    "id": "1XuX96ikRpKq"
   },
   "source": [
    "### Tuner(GRU)"
   ]
  },
  {
   "cell_type": "code",
   "execution_count": null,
   "metadata": {
    "colab": {
     "base_uri": "https://localhost:8080/"
    },
    "executionInfo": {
     "elapsed": 776,
     "status": "ok",
     "timestamp": 1656030387393,
     "user": {
      "displayName": "형준",
      "userId": "07119426239817231574"
     },
     "user_tz": -540
    },
    "id": "Uw_0rWavufWD",
    "outputId": "0045795e-1ccd-4231-f7a5-1e59df09b300",
    "scrolled": true
   },
   "outputs": [],
   "source": [
    "def build_model(hp):\n",
    "    model = keras.Sequential()\n",
    "\n",
    "    model.add(GRU(units=hp.Int('units', min_value=16, max_value=64, step=8), \n",
    "                  input_shape=(3, 22), return_sequences=True))\n",
    "    model.add(GRU(units=hp.Int('units', min_value=16, max_value=64, step=8)))\n",
    "    model.add(Dense(1, activation='relu'))\n",
    "    model.compile(\n",
    "        optimizer=keras.optimizers.Adam(\n",
    "        # 학습률은 자주 쓰이는 0.01, 0.001, 0.0001 3개의 값 중 탐색\n",
    "            hp.Choice('learning_rate',\n",
    "                      values=[1e-3, 1e-4])),\n",
    "        loss=rmse,\n",
    "        metrics=['mae', 'mse'])\n",
    "    return model\n",
    "\n",
    "# RandomSearch\n",
    "# tuner = RandomSearch(\n",
    "#     build_model, # HyperModel\n",
    "#     objective='val_loss', #  최적화할 하이퍼모델\n",
    "#     max_trials=5,\n",
    "#     executions_per_trial=3, # 각 모델별 학습 회수\n",
    "#     directory='/content/drive/MyDrive/날씨/박형준/kerastuner/gru/', # 사용된 parameter 저장할 폴더\n",
    "#     project_name='gru') # 사용된 parameter 저장할 폴더\n",
    "\n",
    "\n",
    "# Hyperband\n",
    "tuner = kt.Hyperband(\n",
    "        build_model, # HyperModel\n",
    "        objective ='val_loss', #  최적화할 하이퍼모델\n",
    "        max_epochs =10, # 각 모델별 학습 회수\n",
    "        factor = 3,    # 한 번에 훈련할 모델 수 결정 변수\n",
    "        directory ='/content/drive/MyDrive/날씨/박형준/kerastuner/gru_1/', # 사용된 parameter 저장할 폴더\n",
    "        project_name ='gru_1') # 사용된 parameter 저장할 폴더\n",
    "      \n",
    "# 출처: https://iyk2h.tistory.com/145 [하루 2시간:티스토리]"
   ]
  },
  {
   "cell_type": "markdown",
   "metadata": {},
   "source": [
    "### Tuner search"
   ]
  },
  {
   "cell_type": "code",
   "execution_count": null,
   "metadata": {
    "colab": {
     "base_uri": "https://localhost:8080/"
    },
    "executionInfo": {
     "elapsed": 19493676,
     "status": "ok",
     "timestamp": 1656049883215,
     "user": {
      "displayName": "형준",
      "userId": "07119426239817231574"
     },
     "user_tz": -540
    },
    "id": "3hLZt5Vbyqr4",
    "outputId": "65b22a01-3ab8-4623-f9cd-e4c78e693c74",
    "scrolled": true
   },
   "outputs": [],
   "source": [
    "tuner.search(train_789_x, train_789_y,\n",
    "             epochs=3,\n",
    "             validation_split=0.2, batch_size=8)"
   ]
  },
  {
   "cell_type": "markdown",
   "metadata": {},
   "source": [
    "### Get best model"
   ]
  },
  {
   "cell_type": "code",
   "execution_count": null,
   "metadata": {
    "id": "DnXVT3VCyqgp"
   },
   "outputs": [],
   "source": [
    "models = tuner.get_best_models ( num_models = 2 )"
   ]
  },
  {
   "cell_type": "code",
   "execution_count": null,
   "metadata": {
    "colab": {
     "base_uri": "https://localhost:8080/"
    },
    "executionInfo": {
     "elapsed": 5,
     "status": "ok",
     "timestamp": 1656049985502,
     "user": {
      "displayName": "형준",
      "userId": "07119426239817231574"
     },
     "user_tz": -540
    },
    "id": "Bi5vhAbfyqSB",
    "outputId": "db3918c6-b9dd-48dc-ef13-3accd3b469ea"
   },
   "outputs": [],
   "source": [
    "tuner.results_summary ()"
   ]
  },
  {
   "cell_type": "markdown",
   "metadata": {
    "id": "pfrUg3Te9oKk"
   },
   "source": [
    "# Submission\n",
    "- 처음 값 0으로 채우기\n",
    "- label값 재정렬 해야함(시간순 다음 ,stn순)"
   ]
  },
  {
   "cell_type": "code",
   "execution_count": null,
   "metadata": {
    "colab": {
     "base_uri": "https://localhost:8080/",
     "height": 455
    },
    "executionInfo": {
     "elapsed": 342,
     "status": "ok",
     "timestamp": 1656376948793,
     "user": {
      "displayName": "형준",
      "userId": "07119426239817231574"
     },
     "user_tz": -540
    },
    "id": "NQmf1me19p4z",
    "outputId": "157d55cb-a704-4036-96cc-91b457210423",
    "scrolled": true
   },
   "outputs": [],
   "source": [
    "df_sub = pd.read_csv(\"/content/drive/MyDrive/날씨/박형준/1-1_검증데이터셋.csv\")\n",
    "df_sub.set_index(['YearMonthDayHourMinute', 'STN'], inplace=True)\n",
    "df_sub.sort_index(level='STN', inplace=True)"
   ]
  },
  {
   "cell_type": "markdown",
   "metadata": {},
   "source": [
    "### Best pred"
   ]
  },
  {
   "cell_type": "code",
   "execution_count": null,
   "metadata": {
    "colab": {
     "base_uri": "https://localhost:8080/",
     "height": 424
    },
    "executionInfo": {
     "elapsed": 5442,
     "status": "ok",
     "timestamp": 1656376975591,
     "user": {
      "displayName": "형준",
      "userId": "07119426239817231574"
     },
     "user_tz": -540
    },
    "id": "ZYt9-Yn-55Fz",
    "outputId": "53c14c8e-b5e8-4dcf-89cf-e6c6809d7436"
   },
   "outputs": [],
   "source": [
    "pred = gru.predict(test_x)\n",
    "df_pred = pd.DataFrame(pred)\n",
    "\n",
    "# 시계열 데이터 length만큼 앞에 빈 예측값은 채워줌\n",
    "df_sub[\"UV\"][3:] = df_pred[0]\n",
    "df_sub[\"UV\"][:3] = 0\n",
    "\n",
    "df_sub.reset_index(inplace=True)\n",
    "df_sub.sort_values(by=['YearMonthDayHourMinute', 'STN'], inplace=True)\n",
    "df_sub.reset_index(drop=True, inplace=True)\n",
    "df_sub"
   ]
  },
  {
   "cell_type": "markdown",
   "metadata": {
    "colab": {
     "base_uri": "https://localhost:8080/",
     "height": 206
    },
    "executionInfo": {
     "elapsed": 268,
     "status": "ok",
     "timestamp": 1656377047495,
     "user": {
      "displayName": "형준",
      "userId": "07119426239817231574"
     },
     "user_tz": -540
    },
    "id": "Wr7R4F378mzj",
    "outputId": "40e30a9e-9c67-4d9d-99c3-f13c070207e3"
   },
   "source": [
    "### To_csv"
   ]
  },
  {
   "cell_type": "code",
   "execution_count": null,
   "metadata": {
    "id": "_VDe6DGf9DDH"
   },
   "outputs": [],
   "source": [
    "df_sub.to_csv(\"/content/drive/MyDrive/날씨/박형준/submission.csv\", index=False, encoding='utf-8')"
   ]
  }
 ],
 "metadata": {
  "accelerator": "GPU",
  "colab": {
   "collapsed_sections": [],
   "machine_shape": "hm",
   "name": "Deeplearning(789).ipynb",
   "provenance": []
  },
  "gpuClass": "standard",
  "kernelspec": {
   "display_name": "Python 3 (ipykernel)",
   "language": "python",
   "name": "python3"
  },
  "language_info": {
   "codemirror_mode": {
    "name": "ipython",
    "version": 3
   },
   "file_extension": ".py",
   "mimetype": "text/x-python",
   "name": "python",
   "nbconvert_exporter": "python",
   "pygments_lexer": "ipython3",
   "version": "3.9.12"
  }
 },
 "nbformat": 4,
 "nbformat_minor": 1
}
